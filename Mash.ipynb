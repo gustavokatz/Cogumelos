{
 "cells": [
  {
   "cell_type": "markdown",
   "metadata": {},
   "source": [
    "# Classificação dos tipos de cogumelo"
   ]
  },
  {
   "cell_type": "markdown",
   "metadata": {},
   "source": [
    "O objetivo desse projeto é conseguir classificar um cogumelo como comestível ou venenoso.\n",
    "\n",
    "- Esther Dagir\n",
    "- Gustavo Katz\n",
    "- Lila Habda\n",
    "- Rafael Oncins"
   ]
  },
  {
   "cell_type": "markdown",
   "metadata": {},
   "source": [
    "### Importando bibliotecas e fazendo a leitura do Dataframe"
   ]
  },
  {
   "cell_type": "code",
   "execution_count": null,
   "metadata": {},
   "outputs": [],
   "source": [
    "import pandas as pd\n",
    "%matplotlib inline\n",
    "import os\n",
    "import matplotlib.pyplot as plt\n",
    "import numpy as np\n",
    "from scipy.stats import norm, probplot\n",
    "from sklearn import tree\n",
    "\n",
    "#leitura do Dataframe\n",
    "df = pd.read_csv('mushrooms.csv')"
   ]
  },
  {
   "cell_type": "code",
   "execution_count": null,
   "metadata": {},
   "outputs": [],
   "source": [
    "# Dataframe dos cogumelos\n",
    "df.head(5)"
   ]
  },
  {
   "cell_type": "markdown",
   "metadata": {},
   "source": [
    "## Análise exploratória"
   ]
  },
  {
   "cell_type": "markdown",
   "metadata": {},
   "source": [
    "A ideia nessa análise é avaliar a influência de cada categoria na determinação de um cogumelo como comestível ou venenoso. Para isso, vamos criar gráficos que analisam a frequência de determinada característica em cada tido de cogumelo, conforme cada categoria (coluna)."
   ]
  },
  {
   "cell_type": "code",
   "execution_count": null,
   "metadata": {},
   "outputs": [],
   "source": [
    "# Para construir um gráfico para cada coluna, vamos dividir em três células a fim de facilitarr a visualização\n",
    "# Gráficos que demonstram as características dos cogumelos conforme sua classificação\n",
    "# Crosstab entre a classe (comestível ou venenoso) e as colunas do dataframe \n",
    "\n",
    "lista = ['cap-shape', 'cap-surface', 'cap-color', 'bruises', 'odor', 'gill-attachment', 'gill-spacing', 'gill-size']\n",
    "\n",
    "for i in lista:\n",
    "    cross = pd.crosstab(df[\"class\"], df[i], normalize=\"index\")\n",
    "    plot = cross.plot(kind='bar', stacked=True,title=f'Class por {i}')\n",
    "    plt.ylabel('Freq.Relativa (em%)')\n",
    "    ax = plt.subplot(111)\n",
    "    box = ax.get_position()\n",
    "    ax.set_position([box.x0, box.y0, box.width * 0.8, box.height])\n",
    "    ax.legend(loc='center left', bbox_to_anchor=(1, 0.5))"
   ]
  },
  {
   "cell_type": "code",
   "execution_count": null,
   "metadata": {},
   "outputs": [],
   "source": [
    "# Gráficos que demonstram as características dos cogumelos conforme sua classificação\n",
    "# Crosstab entre a classe (comestível ou venenoso) e as colunas do dataframe \n",
    "\n",
    "lista = ['stalk-shape','stalk-root','stalk-surface-above-ring','stalk-surface-below-ring','stalk-color-above-ring','stalk-color-below-ring']\n",
    "\n",
    "for i in lista:\n",
    "    cross = pd.crosstab(df[\"class\"], df[i], normalize=\"index\")\n",
    "    plot = cross.plot(kind='bar', stacked=True,title=f'Class por {i}')\n",
    "    plt.ylabel('Freq.Relativa (em%)')\n",
    "    ax = plt.subplot(111)\n",
    "    box = ax.get_position()\n",
    "    ax.set_position([box.x0, box.y0, box.width * 0.8, box.height])\n",
    "    ax.legend(loc='center left', bbox_to_anchor=(1, 0.5))"
   ]
  },
  {
   "cell_type": "code",
   "execution_count": null,
   "metadata": {},
   "outputs": [],
   "source": [
    "# Gráficos que demonstram as características dos cogumelos conforme sua classificação\n",
    "# Crosstab entre a classe (comestível ou venenoso) e as colunas do dataframe \n",
    "\n",
    "lista = ['veil-type','veil-color','ring-number','ring-type','spore-print-color','population','habitat']\n",
    "\n",
    "for i in lista:\n",
    "    cross = pd.crosstab(df[\"class\"], df[i], normalize=\"index\")\n",
    "    plot = cross.plot(kind='bar', stacked=True,title=f'Class por {i}')\n",
    "    plt.ylabel('Freq.Relativa (em%)')\n",
    "    ax = plt.subplot(111)\n",
    "    box = ax.get_position()\n",
    "    ax.set_position([box.x0, box.y0, box.width * 0.8, box.height])\n",
    "    ax.legend(loc='center left', bbox_to_anchor=(1, 0.5))"
   ]
  },
  {
   "cell_type": "markdown",
   "metadata": {},
   "source": [
    "### Análise inicial\n",
    "A partir da análise dos gráficos, foi possível identificar as categorias que mais influenciam a determinação de um cogumelo como comestível ou venenoso. Dessa maneira, filtramos algumas categorias:"
   ]
  },
  {
   "cell_type": "markdown",
   "metadata": {},
   "source": [
    "odor, stalk-color-above-ring, ring-type, spore-print-color, population, habitat"
   ]
  },
  {
   "cell_type": "markdown",
   "metadata": {},
   "source": [
    "A partir desse ponto, nós vamos utilizar apenas essas colunas como referências para o nosso modelo. Portanto, criamos um novo dataframe:"
   ]
  },
  {
   "cell_type": "code",
   "execution_count": null,
   "metadata": {},
   "outputs": [],
   "source": [
    "# Separando somente as colunas que serão utilizadas na classificação\n",
    "cl_utilizadas = df.loc[:,['odor','stalk-color-above-ring','ring-type','spore-print-color','population','habitat']]\n",
    "cl_utilizadas"
   ]
  },
  {
   "cell_type": "code",
   "execution_count": null,
   "metadata": {},
   "outputs": [],
   "source": [
    "# Trocando as variáveis letras para números, para conseguir utilizar essa biblioteca\n",
    "x = pd.get_dummies(cl_utilizadas)\n",
    "\n",
    "df['class'] = df['class'].replace('e', 0)\n",
    "df['class'] = df['class'].replace('p', 1)\n",
    "y = df2['class']"
   ]
  },
  {
   "cell_type": "code",
   "execution_count": null,
   "metadata": {},
   "outputs": [],
   "source": [
    "# árvore de decisão\n",
    "# melhor maneira de classificar um cogumelo como comestível ou venenoso, com base nas características selecionadas acima\n",
    "clf = tree.DecisionTreeClassifier(random_state = 0)\n",
    "clf = clf.fit(x, df['class'])\n",
    "tree.plot_tree(clf)\n",
    "\n",
    "fig = plt.figure(figsize=(25,20))\n",
    "_ = tree.plot_tree(clf, feature_names=x.columns, filled=True)"
   ]
  },
  {
   "cell_type": "markdown",
   "metadata": {},
   "source": [
    "Além dos gráficos, montamos uma árvore de classificação para ajudar na visualização de como essas categorias que selecionamos influenciam na separação dos cogumelos. "
   ]
  },
  {
   "cell_type": "code",
   "execution_count": null,
   "metadata": {},
   "outputs": [],
   "source": [
    "# Separando os dados em treinamento e teste\n",
    "from sklearn.model_selection import train_test_split\n",
    "\n",
    "x_treino, x_teste, y_treino, y_teste = train_test_split(x, y, test_size = 0.2)"
   ]
  },
  {
   "cell_type": "markdown",
   "metadata": {},
   "source": [
    "## Primeiro modelo"
   ]
  },
  {
   "cell_type": "markdown",
   "metadata": {},
   "source": [
    "Nesse primeiro modelo de predição, utilizamos as categorias que mais influenciam para criar um classificador. Assim, a biblioteca sklearn utilizada separa os dados em uma parte de treinamento e outra de teste. Ao se ajustar com o treinamento, o classificador consegue avaliar a parte de teste e trazer resultados precisos."
   ]
  },
  {
   "cell_type": "code",
   "execution_count": null,
   "metadata": {},
   "outputs": [],
   "source": [
    "# Aplicando o classificador\n",
    "from sklearn.ensemble import ExtraTreesClassifier\n",
    "\n",
    "modelo1 = ExtraTreesClassifier(n_estimators = 100) \n",
    "M1 = modelo1.fit(x_treino, y_treino) # modelo ajustado conforme a planilha de treinamento\n",
    "\n",
    "resultado_treino = M1.score(x_treino, y_treino) # resutado da aplicação do classificador na própria planilha de treinamento\n",
    "resultado_teste = M1.score(x_teste, y_teste) # resultado obtido com a planilha teste\n",
    "\n",
    "print(f'Acurácia do treino:{resultado_treino}')\n",
    "print(f'Acurácia do teste: {resultado_teste}')"
   ]
  },
  {
   "cell_type": "markdown",
   "metadata": {},
   "source": [
    "## Segundo modelo"
   ]
  },
  {
   "cell_type": "markdown",
   "metadata": {},
   "source": [
    "No segundo modelo, utilizamos a mesma biblioteca sklearn, e os mesmos dados de treinamento e teste, a fim de ser uma melhor maneira de comparar os resultados no final. Nesse caso, utilizamos a técnica da regressão logística para gerar um classificador."
   ]
  },
  {
   "cell_type": "code",
   "execution_count": null,
   "metadata": {},
   "outputs": [],
   "source": [
    "from sklearn.linear_model import LogisticRegression\n",
    "\n",
    "modelo2= LogisticRegression(fit_intercept = False)\n",
    "M2 = modelo2.fit(x_treino, y_treino)\n",
    "\n",
    "resultado_treino2 = M2.score(x_treino, y_treino) # resutado da aplicação do classificador na própria planilha de treinamento\n",
    "resultado_teste2 = M2.score(x_teste, y_teste) # resultado obtido com a planilha teste\n",
    "\n",
    "print(f'Acurácia do treino:{resultado_treino2}')\n",
    "print(f'Acurácia do teste: {resultado_teste2}')"
   ]
  },
  {
   "cell_type": "markdown",
   "metadata": {},
   "source": [
    "- Explicação melhor sobre árvore de decisão( o que é, link de referência)\n",
    "- Explicação do porquê escolher aquelas categorias\n",
    "- Verificar e validar modelos\n",
    "- Relatório (explicação do passo a passo, descrever tudo, conclusão)"
   ]
  },
  {
   "cell_type": "markdown",
   "metadata": {},
   "source": [
    "## Outras tentativas"
   ]
  },
  {
   "cell_type": "code",
   "execution_count": null,
   "metadata": {},
   "outputs": [],
   "source": [
    "##trasformar valores escritos em valores numericos\n",
    "##edible=e=0, poisonous=p=1\n",
    "#df['class'] = df['class'].replace('e', 0)\n",
    "#df['class'] = df['class'].replace('p', 1)\n",
    "#\n",
    "## bell=b=0,conical=c=1,convex=x=2,flat=f=3, knobbed=k=4,sunken=s=5\n",
    "#df['cap-shape'] = df['cap-shape'].replace('b', 0)\n",
    "#df['cap-shape'] = df['cap-shape'].replace('c', 1)\n",
    "#df['cap-shape'] = df['cap-shape'].replace('x', 2)\n",
    "#df['cap-shape'] = df['cap-shape'].replace('f', 3)\n",
    "#df['cap-shape'] = df['cap-shape'].replace('k', 4)\n",
    "#df['cap-shape'] = df['cap-shape'].replace('s', 5)\n",
    "#\n",
    "## fibrous=f=0,grooves=g=1,scaly=y=2,smooth=s=3\n",
    "#df['cap-surface'] = df['cap-surface'].replace('f',0)\n",
    "#df['cap-surface'] = df['cap-surface'].replace('g',1)\n",
    "#df['cap-surface'] = df['cap-surface'].replace('y',2)\n",
    "#df['cap-surface'] = df['cap-surface'].replace('s',3)\n",
    "#\n",
    "## brown=n=0,buff=b=1,cinnamon=c=2,gray=g=3,green=r=4,pink=p=5,purple=u=6,red=e=7,white=w=8,yellow=y=9\n",
    "#df['cap-color'] = df['cap-color'].replace('n',0)\n",
    "#df['cap-color'] = df['cap-color'].replace('b',1)\n",
    "#df['cap-color'] = df['cap-color'].replace('c',2)\n",
    "#df['cap-color'] = df['cap-color'].replace('g',3)\n",
    "#df['cap-color'] = df['cap-color'].replace('r',4)\n",
    "#df['cap-color'] = df['cap-color'].replace('p',5)\n",
    "#df['cap-color'] = df['cap-color'].replace('u',6)\n",
    "#df['cap-color'] = df['cap-color'].replace('e',7)\n",
    "#df['cap-color'] = df['cap-color'].replace('w',8)\n",
    "#df['cap-color'] = df['cap-color'].replace('y',9)\n",
    "#\n",
    "##bruises=t=0, no=f=1\n",
    "#df['bruises'] = df['bruises'].replace('t',0)\n",
    "#df['bruises'] = df['bruises'].replace('f',1)\n",
    "#\n",
    "## almond=a,anise=l,creosote=c,fishy=y,foul=f,musty=m,none=n,pungent=p,spicy=s\n",
    "#df['odor'] = df['odor'].replace('a',0)\n",
    "#df['odor'] = df['odor'].replace('l',1)\n",
    "#df['odor'] = df['odor'].replace('c',2)\n",
    "#df['odor'] = df['odor'].replace('y',3)\n",
    "#df['odor'] = df['odor'].replace('f',4)\n",
    "#df['odor'] = df['odor'].replace('m',5)\n",
    "#df['odor'] = df['odor'].replace('n',6)\n",
    "#df['odor'] = df['odor'].replace('p',7)\n",
    "#df['odor'] = df['odor'].replace('s',8)\n",
    "#\n",
    "## attached=a, descending=d, free=f, notched=n\n",
    "#df['gill-attachment'] = df['gill-attachment'].replace('a',0)\n",
    "#df['gill-attachment'] = df['gill-attachment'].replace('d',1)\n",
    "#df['gill-attachment'] = df['gill-attachment'].replace('f',2)\n",
    "#df['gill-attachment'] = df['gill-attachment'].replace('n',3)\n",
    "#\n",
    "##close=c,crowded=w,distant=d\n",
    "#df['gill-spacing'] = df['gill-spacing'].replace('c', 0)\n",
    "#df['gill-spacing'] = df['gill-spacing'].replace('w', 1)\n",
    "#df['gill-spacing'] = df['gill-spacing'].replace('d', 2)\n",
    "#\n",
    "##broad=b,narrow=n\n",
    "#df['gill-size'] = df['gill-size'].replace('b',0)\n",
    "#df['gill-size'] = df['gill-size'].replace('n',1)\n",
    "#\n",
    "##black=k,brown=n,buff=b,chocolate=h,gray=g, green=r,orange=o,pink=p,purple=u,red=e,white=w,yellow=y\n",
    "#df['gill-color'] = df['gill-color'].replace('k',0)\n",
    "#df['gill-color'] = df['gill-color'].replace('n',1)\n",
    "#df['gill-color'] = df['gill-color'].replace('b',2)\n",
    "#df['gill-color'] = df['gill-color'].replace('h',3)\n",
    "#df['gill-color'] = df['gill-color'].replace('g',4)\n",
    "#df['gill-color'] = df['gill-color'].replace('r',5)\n",
    "#df['gill-color'] = df['gill-color'].replace('o',6)\n",
    "#df['gill-color'] = df['gill-color'].replace('p',7)\n",
    "#df['gill-color'] = df['gill-color'].replace('u',8)\n",
    "#df['gill-color'] = df['gill-color'].replace('e',9)\n",
    "#df['gill-color'] = df['gill-color'].replace('w',10)\n",
    "#df['gill-color'] = df['gill-color'].replace('y',11)\n",
    "#\n",
    "#df"
   ]
  }
 ],
 "metadata": {
  "kernelspec": {
   "display_name": "Python 3",
   "language": "python",
   "name": "python3"
  },
  "language_info": {
   "codemirror_mode": {
    "name": "ipython",
    "version": 3
   },
   "file_extension": ".py",
   "mimetype": "text/x-python",
   "name": "python",
   "nbconvert_exporter": "python",
   "pygments_lexer": "ipython3",
   "version": "3.7.4"
  }
 },
 "nbformat": 4,
 "nbformat_minor": 1
}
