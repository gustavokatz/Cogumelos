{
 "cells": [
  {
   "cell_type": "markdown",
   "metadata": {},
   "source": [
    "# Classificação dos tipos de cogumelo"
   ]
  },
  {
   "cell_type": "markdown",
   "metadata": {},
   "source": [
    "O objetivo desse projeto é conseguir classificar um cogumelo como comestível ou venenoso.\n",
    "\n",
    "- Esther Dagir\n",
    "- Gustavo Katz\n",
    "- Lila Habda\n",
    "- Rafael Oncins"
   ]
  },
  {
   "cell_type": "markdown",
   "metadata": {},
   "source": [
    "### Importando bibliotecas e fazendo a leitura do Dataframe"
   ]
  },
  {
   "cell_type": "code",
   "execution_count": null,
   "metadata": {},
   "outputs": [],
   "source": [
    "# Bibliotecas que serão utilizadas no código\n",
    "import pandas as pd\n",
    "%matplotlib inline\n",
    "import matplotlib.pyplot as plt\n",
    "from sklearn import tree\n",
    "\n",
    "#leitura do Dataframe\n",
    "df = pd.read_csv('mushrooms.csv')"
   ]
  },
  {
   "cell_type": "code",
   "execution_count": null,
   "metadata": {},
   "outputs": [],
   "source": [
    "# Dataframe dos cogumelos\n",
    "df.head(5)"
   ]
  },
  {
   "cell_type": "markdown",
   "metadata": {},
   "source": [
    "Nossa intenção é conseguir utilizar o dataframe acima para determinar a classe (\"p\"= venenoso; \"e\"= comestível) do cogumelo conforme suas outras características."
   ]
  },
  {
   "cell_type": "markdown",
   "metadata": {},
   "source": [
    "## Análise exploratória"
   ]
  },
  {
   "cell_type": "markdown",
   "metadata": {},
   "source": [
    "A ideia nessa análise é avaliar a influência de cada categoria na determinação de um cogumelo como comestível ou venenoso. Para isso, vamos criar gráficos que analisam a frequência de determinada característica em cada tipo de cogumelo, conforme cada categoria (coluna)."
   ]
  },
  {
   "cell_type": "code",
   "execution_count": null,
   "metadata": {},
   "outputs": [],
   "source": [
    "# Para construir um gráfico para cada coluna, vamos dividir em três células a fim de facilitar a visualização\n",
    "# Gráficos que demonstram as características dos cogumelos conforme sua classificação\n",
    "# Crosstab entre a classe (comestível ou venenoso) e as colunas do dataframe \n",
    "\n",
    "lista = ['cap-shape', 'cap-surface', 'cap-color', 'bruises', 'odor', 'gill-attachment', 'gill-spacing', 'gill-size']\n",
    "\n",
    "for i in lista:\n",
    "    cross = pd.crosstab(df[\"class\"], df[i], normalize=\"index\")\n",
    "    plot = cross.plot(kind='bar', stacked=True,title=f'Class por {i}')\n",
    "    plt.ylabel('Freq.Relativa (em%)')\n",
    "    ax = plt.subplot(111)\n",
    "    box = ax.get_position()\n",
    "    ax.set_position([box.x0, box.y0, box.width * 0.8, box.height])\n",
    "    ax.legend(loc='center left', bbox_to_anchor=(1, 0.5))"
   ]
  },
  {
   "cell_type": "code",
   "execution_count": null,
   "metadata": {},
   "outputs": [],
   "source": [
    "# Gráficos que demonstram as características dos cogumelos conforme sua classificação\n",
    "# Crosstab entre a classe (comestível ou venenoso) e as colunas do dataframe \n",
    "\n",
    "lista = ['stalk-shape','stalk-root','stalk-surface-above-ring','stalk-surface-below-ring','stalk-color-above-ring','stalk-color-below-ring']\n",
    "\n",
    "for i in lista:\n",
    "    cross = pd.crosstab(df[\"class\"], df[i], normalize=\"index\")\n",
    "    plot = cross.plot(kind='bar', stacked=True,title=f'Class por {i}')\n",
    "    plt.ylabel('Freq.Relativa (em%)')\n",
    "    ax = plt.subplot(111)\n",
    "    box = ax.get_position()\n",
    "    ax.set_position([box.x0, box.y0, box.width * 0.8, box.height])\n",
    "    ax.legend(loc='center left', bbox_to_anchor=(1, 0.5))"
   ]
  },
  {
   "cell_type": "code",
   "execution_count": null,
   "metadata": {},
   "outputs": [],
   "source": [
    "# Gráficos que demonstram as características dos cogumelos conforme sua classificação\n",
    "# Crosstab entre a classe (comestível ou venenoso) e as colunas do dataframe \n",
    "\n",
    "lista = ['veil-type','veil-color','ring-number','ring-type','spore-print-color','population','habitat']\n",
    "\n",
    "for i in lista:\n",
    "    cross = pd.crosstab(df[\"class\"], df[i], normalize=\"index\")\n",
    "    plot = cross.plot(kind='bar', stacked=True,title=f'Class por {i}')\n",
    "    plt.ylabel('Freq.Relativa (em%)')\n",
    "    ax = plt.subplot(111)\n",
    "    box = ax.get_position()\n",
    "    ax.set_position([box.x0, box.y0, box.width * 0.8, box.height])\n",
    "    ax.legend(loc='center left', bbox_to_anchor=(1, 0.5))"
   ]
  },
  {
   "cell_type": "markdown",
   "metadata": {},
   "source": [
    "### Análise inicial\n",
    "A partir da análise dos gráficos, foi possível identificar as categorias que mais influenciam a determinação de um cogumelo como comestível ou venenoso. Dessa maneira, filtramos algumas categorias:\n",
    "\n",
    "odor, stalk-color-above-ring, ring-type, spore-print-color, population, habitat"
   ]
  },
  {
   "cell_type": "markdown",
   "metadata": {},
   "source": [
    "odor, stalk-color-above-ring, ring-type, spore-print-color, population, habitat"
   ]
  },
  {
   "cell_type": "markdown",
   "metadata": {},
   "source": [
    "Justificativa pela escolha das categorias:\n",
    "- Odor: Pode-se perceber que pelo gráfico odor X class, a primeira tem uma grande influência na segunda já que há uma grande distinção das características e o odor do tipo \"n\" parece ser um fator de relevância para a classe \"comestível\".\n",
    "\n",
    "\n",
    "- Stalk-color-above-ring: Apesar de o tipo \"p\" e \"w\" apresentarem relevância nas duas classes, pode-se notar uma boa diferenciabilidade entre elas nos outros tipos, visto que essas, por sua peculiaridade, farão uma distinção de comestível e não comestível.\n",
    "\n",
    "\n",
    "- Ring-type: Nesse gráfico, é possível observar principalmente a influência da característica \"l\" muito presente nos cogumelos venenosos.\n",
    "\n",
    "\n",
    "- Spore-print-color: Nesse gráfico, embora ambas as classes tenham essas características, a classe \"comestível\" tem uma alta frenquência dos fatores \"n\" e \"k\", enquanto a classe do tipo \"venenoso\" tem uma alta frenquência dos fatores \"w\" e \"h\".\n",
    "\n",
    "\n",
    "- Population: Assim como no item 2, os tipos \"v\", \"s\" e \"y\" apresentam grande presença nos tipos comestível e não comestível. No entanto, os demais tipos tem uma maior diferença, sendo esse em maioria no comestível, o que permite diferenciar tais classes.\n",
    "\n",
    "\n",
    "- Habitat: No gráfico do habitat, aparentemente há uma semelhança entre os fatores para ambas classes, porém as quantidades são diferentes para cada classe, principalmente do tipo \"p\"."
   ]
  },
  {
   "cell_type": "markdown",
   "metadata": {},
   "source": [
    "A partir desse ponto, nós vamos utilizar apenas essas colunas como referências para o nosso modelo. Portanto, criamos um novo dataframe:"
   ]
  },
  {
   "cell_type": "code",
   "execution_count": null,
   "metadata": {},
   "outputs": [],
   "source": [
    "# Separando somente as colunas que serão utilizadas na classificação\n",
    "cl_utilizadas = df.loc[:,['odor','stalk-color-above-ring','ring-type','spore-print-color','population','habitat']]\n",
    "cl_utilizadas"
   ]
  },
  {
   "cell_type": "markdown",
   "metadata": {},
   "source": [
    "Agora, para facilitar a leitura dos dados, vamos trocar as variáveis letras por números, de modo que novas colunas serâo criadas para cada variável. Assim, o valor 1 representará a presença de tal característica e o valor 0 representará a sua ausência.  "
   ]
  },
  {
   "cell_type": "code",
   "execution_count": null,
   "metadata": {},
   "outputs": [],
   "source": [
    "x = pd.get_dummies(cl_utilizadas)\n",
    "x.head(5)"
   ]
  },
  {
   "cell_type": "code",
   "execution_count": null,
   "metadata": {},
   "outputs": [],
   "source": [
    "# Nessa célula, estamos trocando as letras por números também no nosso target\n",
    "# A partir de agora, 0 corresponde a comestível e 1 corresponde a venenoso\n",
    "df['class'] = df['class'].replace('e', 0)\n",
    "df['class'] = df['class'].replace('p', 1)\n",
    "y = df['class']"
   ]
  },
  {
   "cell_type": "markdown",
   "metadata": {},
   "source": [
    "### Árvore de decisão\n",
    "\n",
    "A árvore de decisão é um método utilizado para facilitar a análise de possíveis resultados diferentes de um determinado assunto. Ou seja, a partir de uma árvore de decisão, é possível mapear os resultados conforme diferentes escolhas e diferentes probabilidades. Com ela, poderemos avaliar como se comporta o processo de classificação conforme as características mais influentes. Utilizamos o link a seguir para esclarecer o conceito:\n",
    "\n",
    "https://www.lucidchart.com/pages/pt/o-que-e-arvore-de-decisao\n",
    "\n",
    "\n",
    "Com isso, vamos criar uma árvore de decisão com as categorias selecionadas a fim de observar o seu comportamento. Ou seja, a nossa árvore vai nos ajudar a reconhecer quais são as características mais significativas para determinar se um cogumelo é ou não comestível."
   ]
  },
  {
   "cell_type": "code",
   "execution_count": null,
   "metadata": {
    "scrolled": true
   },
   "outputs": [],
   "source": [
    "# árvore de decisão\n",
    "# uma maneira de classificar um cogumelo como comestível ou venenoso, com base nas características selecionadas acima\n",
    "clf = tree.DecisionTreeClassifier(random_state = 0)\n",
    "clf = clf.fit(x, df['class'])\n",
    "\n",
    "fig = plt.figure(figsize=(25,20))\n",
    "_ = tree.plot_tree(clf, feature_names=x.columns, filled=True)"
   ]
  },
  {
   "cell_type": "markdown",
   "metadata": {},
   "source": [
    "A árvore de decisão facilitou a compreensão das principais características que influenciam na classificação dos cogumelos. No caso, podemos observar que o odor do tipo \"n\" parece ser um fator significante nesse processo de seleção. Além dele, o odor do tipo \"l\" e o spore-print-color do tipo \"r\" aparentam ser fatores significantes também."
   ]
  },
  {
   "cell_type": "markdown",
   "metadata": {},
   "source": [
    "## Implementando os modelos de predição\n",
    "\n",
    "Agora que já fizemos a análise exploratória para entender melhor nosso Dataframe, vamos iniciar as implementação dos modelos de predição.\n",
    "\n",
    "Para começar, vamos separar os dados em uma coluna de treinamento e uma de teste. Essas colunas serão usadas para ambos os modelos de predição. \n",
    "A planilha de testes corresponde a 20% dos dados, e os outros 80% serão utilizados para o treinamento. "
   ]
  },
  {
   "cell_type": "code",
   "execution_count": null,
   "metadata": {},
   "outputs": [],
   "source": [
    "# Separando os dados em treinamento e teste\n",
    "from sklearn.model_selection import train_test_split\n",
    "\n",
    "x_treino, x_teste, y_treino, y_teste = train_test_split(x, y, test_size = 0.2)"
   ]
  },
  {
   "cell_type": "markdown",
   "metadata": {},
   "source": [
    "### Primeiro modelo\n",
    "\n",
    "Nesse primeiro modelo, utilizamos o ExtraTreesClassifier da biblioteca sklearn para fazer nossa predição. Assim, o classificador irá utilizar a parte dos dados destinada ao treinamento para se ajustar e criar um modelo de predição conforme essas informações. Em seguida, com o comando \"score()\" o modelo consegue fazer uma predição com base no modelo criado. O resultado obtido corresponde a porcentagem de acerto do classificador."
   ]
  },
  {
   "cell_type": "code",
   "execution_count": null,
   "metadata": {},
   "outputs": [],
   "source": [
    "# Criando o modelo com base na planilha de treinamento\n",
    "from sklearn.ensemble import ExtraTreesClassifier  # importando biblioteca utilizada \n",
    "\n",
    "modelo1 = ExtraTreesClassifier(n_estimators = 100) \n",
    "M1 = modelo1.fit(x_treino, y_treino) # modelo ajustado"
   ]
  },
  {
   "cell_type": "code",
   "execution_count": null,
   "metadata": {},
   "outputs": [],
   "source": [
    "# análise do resutado da aplicação do classificador na própria planilha de treinamento\n",
    "resultado_treino = M1.score(x_treino, y_treino) \n",
    "\n",
    "print(f'Precisão do modelo utilizado na planilha de treinamento: {resultado_treino}')"
   ]
  },
  {
   "cell_type": "markdown",
   "metadata": {},
   "source": [
    "Como foi possível notar na célula acima, o modelo utilizado funciona muito bem na planilha de treinamento, apresentando 100% de acertos na predição. Assim, o modelo está pronto para conseguir avaliar a planilha de testes podendo chegar a resultados mais precisos."
   ]
  },
  {
   "cell_type": "code",
   "execution_count": null,
   "metadata": {},
   "outputs": [],
   "source": [
    "# resultado obtido com a planilha teste\n",
    "resultado_teste = M1.score(x_teste, y_teste) \n",
    "\n",
    "print(f'Resultado do modelo de predição aplicado a planilha de testes: {resultado_teste}')"
   ]
  },
  {
   "cell_type": "markdown",
   "metadata": {},
   "source": [
    "Como foi possível observar, o nosso modelo utilizado obteve 100% de acertos mesmo na planilha de teste. Ou seja, o modelo tem um comportamento perfeito de modo que consiga analisar e classificar corretamente diferentes tipos de cogumelo."
   ]
  },
  {
   "cell_type": "markdown",
   "metadata": {},
   "source": [
    "### Segundo modelo\n",
    "\n",
    "No segundo modelo, utilizamos a mesma biblioteca sklearn, e os mesmos dados de treinamento e teste, a fim de ser uma melhor maneira de comparar os resultados no final. Nesse caso, utilizamos a técnica da regressão logística para gerar um classificador."
   ]
  },
  {
   "cell_type": "code",
   "execution_count": null,
   "metadata": {},
   "outputs": [],
   "source": [
    "# Criando o modelo com base na planilha de treinamento\n",
    "from sklearn.linear_model import LogisticRegression # importando biblioteca utilizada \n",
    "\n",
    "modelo2= LogisticRegression(fit_intercept = False)\n",
    "M2 = modelo2.fit(x_treino, y_treino) # modelo ajustado"
   ]
  },
  {
   "cell_type": "code",
   "execution_count": null,
   "metadata": {},
   "outputs": [],
   "source": [
    "# resutado da aplicação do classificador na própria planilha de treinamento\n",
    "resultado_treino2 = M2.score(x_treino, y_treino) \n",
    "\n",
    "print(f'Precisão do modelo utilizado na planilha de treinamento: {resultado_treino2}')"
   ]
  },
  {
   "cell_type": "markdown",
   "metadata": {},
   "source": [
    "Na célula acima, foi obtido a precisão do modelo quando utilizado na planilha de treinamento. Assim, é possível notar que houva uma taxa muito alta de precisão, atingindo mais de 99%. Assim, o classificador está bom o suficiente para conseguir ser implementado na planilha de teste."
   ]
  },
  {
   "cell_type": "code",
   "execution_count": null,
   "metadata": {},
   "outputs": [],
   "source": [
    "# resultado obtido com a planilha teste\n",
    "resultado_teste2 = M2.score(x_teste, y_teste) \n",
    "\n",
    "print(f'Acurácia do teste: {resultado_teste2}')"
   ]
  },
  {
   "cell_type": "markdown",
   "metadata": {},
   "source": [
    "A partir do resultado obtido acima, pode-se perceber que o classificador teve um ótimo desempenho nos testes, obtendo mais uma vez uma taxa de precisão maior que 99%. Desse modo, o segundo modelo que utilizamos também tem uma ótima performance para classificar os cogumelos como sendo ou não comestíveis."
   ]
  },
  {
   "cell_type": "code",
   "execution_count": null,
   "metadata": {},
   "outputs": [],
   "source": [
    "# análise dos coeficientes obtidos para cada coluna no modelo da regressão logística\n",
    "\n",
    "coeficientes = pd.DataFrame(data={'coeficientes':abs(M2.coef_[0]),'treinamento':x_treino.columns})\n",
    "coeficientes.sort_values('coeficientes').tail(10)"
   ]
  },
  {
   "cell_type": "markdown",
   "metadata": {},
   "source": [
    "- Verificar e validar modelos\n",
    "- Relatório (explicação do passo a passo, descrever tudo, conclusão)"
   ]
  }
 ],
 "metadata": {
  "kernelspec": {
   "display_name": "Python 3",
   "language": "python",
   "name": "python3"
  },
  "language_info": {
   "codemirror_mode": {
    "name": "ipython",
    "version": 3
   },
   "file_extension": ".py",
   "mimetype": "text/x-python",
   "name": "python",
   "nbconvert_exporter": "python",
   "pygments_lexer": "ipython3",
   "version": "3.7.4"
  }
 },
 "nbformat": 4,
 "nbformat_minor": 1
}
