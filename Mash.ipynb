{
 "cells": [
  {
   "cell_type": "markdown",
   "metadata": {},
   "source": [
    "# Classificação dos tipos de cogumelo"
   ]
  },
  {
   "cell_type": "markdown",
   "metadata": {},
   "source": [
    "### Importando bibliotecas e fazendo a leitura do Dataframe"
   ]
  },
  {
   "cell_type": "code",
   "execution_count": null,
   "metadata": {},
   "outputs": [],
   "source": [
    "import pandas as pd\n",
    "df = pd.read_csv('mushrooms.csv')\n",
    "df2 = pd.read_csv('mushrooms.csv')\n",
    "%matplotlib inline\n",
    "import pandas as pd\n",
    "import os\n",
    "import matplotlib.pyplot as plt\n",
    "from sklearn import tree"
   ]
  },
  {
   "cell_type": "code",
   "execution_count": null,
   "metadata": {},
   "outputs": [],
   "source": [
    "df.head(5)"
   ]
  },
  {
   "cell_type": "code",
   "execution_count": null,
   "metadata": {},
   "outputs": [],
   "source": [
    "#trasformar valores escritos em valores numericos\n",
    "#edible=e=0, poisonous=p=1\n",
    "df['class'] = df['class'].replace('e', 0)\n",
    "df['class'] = df['class'].replace('p', 1)\n",
    "\n",
    "# bell=b=0,conical=c=1,convex=x=2,flat=f=3, knobbed=k=4,sunken=s=5\n",
    "df['cap-shape'] = df['cap-shape'].replace('b', 0)\n",
    "df['cap-shape'] = df['cap-shape'].replace('c', 1)\n",
    "df['cap-shape'] = df['cap-shape'].replace('x', 2)\n",
    "df['cap-shape'] = df['cap-shape'].replace('f', 3)\n",
    "df['cap-shape'] = df['cap-shape'].replace('k', 4)\n",
    "df['cap-shape'] = df['cap-shape'].replace('s', 5)\n",
    "\n",
    "# fibrous=f=0,grooves=g=1,scaly=y=2,smooth=s=3\n",
    "df['cap-surface'] = df['cap-surface'].replace('f',0)\n",
    "df['cap-surface'] = df['cap-surface'].replace('g',1)\n",
    "df['cap-surface'] = df['cap-surface'].replace('y',2)\n",
    "df['cap-surface'] = df['cap-surface'].replace('s',3)\n",
    "\n",
    "# brown=n=0,buff=b=1,cinnamon=c=2,gray=g=3,green=r=4,pink=p=5,purple=u=6,red=e=7,white=w=8,yellow=y=9\n",
    "df['cap-color'] = df['cap-color'].replace('n',0)\n",
    "df['cap-color'] = df['cap-color'].replace('b',1)\n",
    "df['cap-color'] = df['cap-color'].replace('c',2)\n",
    "df['cap-color'] = df['cap-color'].replace('g',3)\n",
    "df['cap-color'] = df['cap-color'].replace('r',4)\n",
    "df['cap-color'] = df['cap-color'].replace('p',5)\n",
    "df['cap-color'] = df['cap-color'].replace('u',6)\n",
    "df['cap-color'] = df['cap-color'].replace('e',7)\n",
    "df['cap-color'] = df['cap-color'].replace('w',8)\n",
    "df['cap-color'] = df['cap-color'].replace('y',9)\n",
    "\n",
    "#bruises=t=0, no=f=1\n",
    "df['bruises'] = df['bruises'].replace('t',0)\n",
    "df['bruises'] = df['bruises'].replace('f',1)\n",
    "\n",
    "# almond=a,anise=l,creosote=c,fishy=y,foul=f,musty=m,none=n,pungent=p,spicy=s\n",
    "df['odor'] = df['odor'].replace('a',0)\n",
    "df['odor'] = df['odor'].replace('l',1)\n",
    "df['odor'] = df['odor'].replace('c',2)\n",
    "df['odor'] = df['odor'].replace('y',3)\n",
    "df['odor'] = df['odor'].replace('f',4)\n",
    "df['odor'] = df['odor'].replace('m',5)\n",
    "df['odor'] = df['odor'].replace('n',6)\n",
    "df['odor'] = df['odor'].replace('p',7)\n",
    "df['odor'] = df['odor'].replace('s',8)\n",
    "\n",
    "# attached=a, descending=d, free=f, notched=n\n",
    "df['gill-attachment'] = df['gill-attachment'].replace('a',0)\n",
    "df['gill-attachment'] = df['gill-attachment'].replace('d',1)\n",
    "df['gill-attachment'] = df['gill-attachment'].replace('f',2)\n",
    "df['gill-attachment'] = df['gill-attachment'].replace('n',3)\n",
    "\n",
    "#close=c,crowded=w,distant=d\n",
    "df['gill-spacing'] = df['gill-spacing'].replace('c', 0)\n",
    "df['gill-spacing'] = df['gill-spacing'].replace('w', 1)\n",
    "df['gill-spacing'] = df['gill-spacing'].replace('d', 2)\n",
    "\n",
    "#broad=b,narrow=n\n",
    "df['gill-size'] = df['gill-size'].replace('b',0)\n",
    "df['gill-size'] = df['gill-size'].replace('n',1)\n",
    "\n",
    "#black=k,brown=n,buff=b,chocolate=h,gray=g, green=r,orange=o,pink=p,purple=u,red=e,white=w,yellow=y\n",
    "df['gill-color'] = df['gill-color'].replace('k',0)\n",
    "df['gill-color'] = df['gill-color'].replace('n',1)\n",
    "df['gill-color'] = df['gill-color'].replace('b',2)\n",
    "df['gill-color'] = df['gill-color'].replace('h',3)\n",
    "df['gill-color'] = df['gill-color'].replace('g',4)\n",
    "df['gill-color'] = df['gill-color'].replace('r',5)\n",
    "df['gill-color'] = df['gill-color'].replace('o',6)\n",
    "df['gill-color'] = df['gill-color'].replace('p',7)\n",
    "df['gill-color'] = df['gill-color'].replace('u',8)\n",
    "df['gill-color'] = df['gill-color'].replace('e',9)\n",
    "df['gill-color'] = df['gill-color'].replace('w',10)\n",
    "df['gill-color'] = df['gill-color'].replace('y',11)\n",
    "\n",
    "df"
   ]
  },
  {
   "cell_type": "markdown",
   "metadata": {},
   "source": [
    "## Análise exploratória"
   ]
  },
  {
   "cell_type": "code",
   "execution_count": null,
   "metadata": {},
   "outputs": [],
   "source": [
    "# Gráficos que demonstram as características dos cogumelos conforme sua classificação\n",
    "# Crosstab entre a classe (comestível ou venenoso) e as colunas do dataframe \n",
    "\n",
    "lista = ['cap-shape', 'cap-surface', 'cap-color', 'bruises', 'odor', 'gill-attachment', 'gill-spacing', 'gill-size']\n",
    "\n",
    "for i in lista:\n",
    "    cross = pd.crosstab(df[\"class\"], df[i], normalize=\"index\")\n",
    "    plot = cross.plot(kind='bar', stacked=True,title=f'Class por {i}')\n",
    "    plt.ylabel('Freq.Relativa (em%)')\n",
    "    ax = plt.subplot(111)\n",
    "    box = ax.get_position()\n",
    "    ax.set_position([box.x0, box.y0, box.width * 0.8, box.height])\n",
    "    ax.legend(loc='center left', bbox_to_anchor=(1, 0.5))"
   ]
  },
  {
   "cell_type": "code",
   "execution_count": null,
   "metadata": {},
   "outputs": [],
   "source": [
    "# Gráficos que demonstram as características dos cogumelos conforme sua classificação\n",
    "# Crosstab entre a classe (comestível ou venenoso) e as colunas do dataframe \n",
    "\n",
    "lista = ['stalk-shape','stalk-root','stalk-surface-above-ring','stalk-surface-below-ring','stalk-color-above-ring','stalk-color-below-ring']\n",
    "\n",
    "for i in lista:\n",
    "    cross = pd.crosstab(df[\"class\"], df[i], normalize=\"index\")\n",
    "    plot = cross.plot(kind='bar', stacked=True,title=f'Class por {i}')\n",
    "    plt.ylabel('Freq.Relativa (em%)')\n",
    "    ax = plt.subplot(111)\n",
    "    box = ax.get_position()\n",
    "    ax.set_position([box.x0, box.y0, box.width * 0.8, box.height])\n",
    "    ax.legend(loc='center left', bbox_to_anchor=(1, 0.5))"
   ]
  },
  {
   "cell_type": "code",
   "execution_count": null,
   "metadata": {},
   "outputs": [],
   "source": [
    "# Gráficos que demonstram as características dos cogumelos conforme sua classificação\n",
    "# Crosstab entre a classe (comestível ou venenoso) e as colunas do dataframe \n",
    "\n",
    "lista = ['veil-type','veil-color','ring-number','ring-type','spore-print-color','population','habitat']\n",
    "\n",
    "for i in lista:\n",
    "    cross = pd.crosstab(df[\"class\"], df[i], normalize=\"index\")\n",
    "    plot = cross.plot(kind='bar', stacked=True,title=f'Class por {i}')\n",
    "    plt.ylabel('Freq.Relativa (em%)')\n",
    "    ax = plt.subplot(111)\n",
    "    box = ax.get_position()\n",
    "    ax.set_position([box.x0, box.y0, box.width * 0.8, box.height])\n",
    "    ax.legend(loc='center left', bbox_to_anchor=(1, 0.5))"
   ]
  },
  {
   "cell_type": "markdown",
   "metadata": {},
   "source": [
    "### Análise inicial\n",
    "A partir da análise dos gráficos, foi possível identificar as categorias que mais influenciam a determinação de um cogumelo como comestível ou venenoso. Dessa maneira, filtramos algumas categorias:"
   ]
  },
  {
   "cell_type": "markdown",
   "metadata": {},
   "source": [
    "odor, ring-type, spore-print-color, habitat"
   ]
  },
  {
   "cell_type": "markdown",
   "metadata": {},
   "source": [
    "A partir desse ponto, nós vamos utilizar apenas essas colunas como referências para o nosso modelo."
   ]
  },
  {
   "cell_type": "code",
   "execution_count": null,
   "metadata": {},
   "outputs": [],
   "source": [
    "ColunaPrevista = df['class']\n",
    "ColunasUtilizadas = df.iloc[:,1:9]\n",
    "ColunasUtilizadas"
   ]
  },
  {
   "cell_type": "code",
   "execution_count": null,
   "metadata": {},
   "outputs": [],
   "source": [
    "from sklearn.model_selection import train_test_split\n",
    "\n",
    "ColunasUtilizadas_treino, ColunasUtilizadas_teste, ColunaPrevista_treino, ColunaPrevista_teste = train_test_split(ColunasUtilizadas, ColunaPrevista, test_size = 0.3)"
   ]
  },
  {
   "cell_type": "code",
   "execution_count": null,
   "metadata": {},
   "outputs": [],
   "source": [
    "from sklearn.ensemble import ExtraTreesClassifier\n",
    "clf = tree.DecisionTreeClassifier(random_state = 0)\n",
    "clf = clf.fit(x, df2['class'])\n",
    "modelo = ExtraTreesClassifier(n_estimators = 100)\n",
    "modelo.fit(ColunasUtilizadas_treino, ColunaPrevista_treino)\n",
    "\n",
    "resultado_teste = modelo.score(ColunasUtilizadas_treino, ColunaPrevista_treino)\n",
    "resultado = modelo.score(ColunasUtilizadas_teste, ColunaPrevista_teste)\n",
    "print(f'Acuracia:{resultado}, acuracia do teste: {resultado_teste}')\n",
    "tree.plot_tree(clf)"
   ]
  },
  {
   "cell_type": "code",
   "execution_count": null,
   "metadata": {},
   "outputs": [],
   "source": [
    "with open(\"tree_classifier.txt\", \"w\") as f:\n",
    "    f = tree.export_graphviz(modelo, out_file=f)"
   ]
  },
  {
   "cell_type": "code",
   "execution_count": null,
   "metadata": {},
   "outputs": [],
   "source": [
    "df2.head()"
   ]
  },
  {
   "cell_type": "code",
   "execution_count": null,
   "metadata": {},
   "outputs": [],
   "source": [
    "colunas = list(df2.columns)\n",
    "colunas.remove('class')"
   ]
  },
  {
   "cell_type": "code",
   "execution_count": null,
   "metadata": {},
   "outputs": [],
   "source": []
  },
  {
   "cell_type": "code",
   "execution_count": null,
   "metadata": {},
   "outputs": [],
   "source": [
    "cl = df2[colunas]\n",
    "x = pd.get_dummies(cl)\n",
    "df2['class'] = df2['class'].replace('e', 0)\n",
    "df2['class'] = df2['class'].replace('p', 1)\n",
    "x"
   ]
  },
  {
   "cell_type": "code",
   "execution_count": null,
   "metadata": {},
   "outputs": [],
   "source": [
    "clf = clf.fit(x, df2['class'])\n",
    "tree.plot_tree(clf)\n",
    "\n",
    "fig = plt.figure(figsize=(25,20))\n",
    "_ = tree.plot_tree(clf,\n",
    "                   feature_names=x.columns,\n",
    "                   filled=True)"
   ]
  },
  {
   "cell_type": "markdown",
   "metadata": {},
   "source": [
    "### barbara, tentei fazer do jeito certo e deu um resultado pior do que do jeito errado "
   ]
  },
  {
   "cell_type": "code",
   "execution_count": null,
   "metadata": {},
   "outputs": [],
   "source": [
    "y = df2['class']\n",
    "x = df2 != 'class'"
   ]
  },
  {
   "cell_type": "code",
   "execution_count": null,
   "metadata": {},
   "outputs": [],
   "source": [
    "from sklearn.model_selection import train_test_split\n",
    "\n",
    "x_treino, x_teste, y_treino, y_teste = train_test_split(x, y, test_size = 0.3)"
   ]
  },
  {
   "cell_type": "code",
   "execution_count": null,
   "metadata": {},
   "outputs": [],
   "source": [
    "from sklearn.ensemble import ExtraTreesClassifier\n",
    "\n",
    "modelo2 = ExtraTreesClassifier(n_estimators = 100)\n",
    "modelo2.fit(x_treino, y_treino)\n",
    "\n",
    "resultado_teste2 = modelo2.score(x_treino, y_treino)\n",
    "resultado2 = modelo2.score(x_teste, y_teste)\n",
    "print(f'Acuracia:{resultado2}, acuracia do teste: {resultado_teste2}')\n"
   ]
  },
  {
   "cell_type": "code",
   "execution_count": null,
   "metadata": {},
   "outputs": [],
   "source": []
  },
  {
   "cell_type": "code",
   "execution_count": null,
   "metadata": {},
   "outputs": [],
   "source": []
  }
 ],
 "metadata": {
  "kernelspec": {
   "display_name": "Python 3",
   "language": "python",
   "name": "python3"
  },
  "language_info": {
   "codemirror_mode": {
    "name": "ipython",
    "version": 3
   },
   "file_extension": ".py",
   "mimetype": "text/x-python",
   "name": "python",
   "nbconvert_exporter": "python",
   "pygments_lexer": "ipython3",
   "version": "3.7.4"
  }
 },
 "nbformat": 4,
 "nbformat_minor": 1
}
