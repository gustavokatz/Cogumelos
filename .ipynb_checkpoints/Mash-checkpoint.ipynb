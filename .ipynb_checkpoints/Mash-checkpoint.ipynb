{
 "cells": [
  {
   "cell_type": "markdown",
   "metadata": {},
   "source": [
    "## Classificação dos tipos de cogumelo"
   ]
  },
  {
   "cell_type": "code",
   "execution_count": null,
   "metadata": {},
   "outputs": [],
   "source": [
    "import pandas as pd\n",
    "df = pd.read_csv('mushrooms.csv')"
   ]
  },
  {
   "cell_type": "code",
   "execution_count": null,
   "metadata": {},
   "outputs": [],
   "source": [
    "df.head(3)"
   ]
  },
  {
   "cell_type": "code",
   "execution_count": null,
   "metadata": {},
   "outputs": [],
   "source": [
    "#trasformar valores escritos em valores numericos\n",
    "#edible=e=0, poisonous=p=1\n",
    "df['class'] = df['class'].replace('e', 0)\n",
    "df['class'] = df['class'].replace('p', 1)\n",
    "\n",
    "# bell=b=0,conical=c=1,convex=x=2,flat=f=3, knobbed=k=4,sunken=s=5\n",
    "df['cap-shape'] = df['cap-shape'].replace('b', 0)\n",
    "df['cap-shape'] = df['cap-shape'].replace('c', 1)\n",
    "df['cap-shape'] = df['cap-shape'].replace('x', 2)\n",
    "df['cap-shape'] = df['cap-shape'].replace('f', 3)\n",
    "df['cap-shape'] = df['cap-shape'].replace('k', 4)\n",
    "df['cap-shape'] = df['cap-shape'].replace('s', 5)\n",
    "\n",
    "# fibrous=f=0,grooves=g=1,scaly=y=2,smooth=s=3\n",
    "df['cap-surface'] = df['cap-surface'].replace('f',0)\n",
    "df['cap-surface'] = df['cap-surface'].replace('g',1)\n",
    "df['cap-surface'] = df['cap-surface'].replace('y',2)\n",
    "df['cap-surface'] = df['cap-surface'].replace('s',3)\n",
    "\n",
    "# brown=n=0,buff=b=1,cinnamon=c=2,gray=g=3,green=r=4,pink=p=5,purple=u=6,red=e=7,white=w=8,yellow=y=9\n",
    "df['cap-color'] = df['cap-color'].replace('n',0)\n",
    "df['cap-color'] = df['cap-color'].replace('b',1)\n",
    "df['cap-color'] = df['cap-color'].replace('c',2)\n",
    "df['cap-color'] = df['cap-color'].replace('g',3)\n",
    "df['cap-color'] = df['cap-color'].replace('r',4)\n",
    "df['cap-color'] = df['cap-color'].replace('p',5)\n",
    "df['cap-color'] = df['cap-color'].replace('u',6)\n",
    "df['cap-color'] = df['cap-color'].replace('e',7)\n",
    "df['cap-color'] = df['cap-color'].replace('w',8)\n",
    "df['cap-color'] = df['cap-color'].replace('y',9)\n",
    "\n",
    "#bruises=t=0, no=f=1\n",
    "df['bruises'] = df['bruises'].replace('t',0)\n",
    "df['bruises'] = df['bruises'].replace('f',1)\n",
    "\n",
    "# almond=a,anise=l,creosote=c,fishy=y,foul=f,musty=m,none=n,pungent=p,spicy=s\n",
    "df['odor'] = df['odor'].replace('a',0)\n",
    "df['odor'] = df['odor'].replace('l',1)\n",
    "df['odor'] = df['odor'].replace('c',2)\n",
    "df['odor'] = df['odor'].replace('y',3)\n",
    "df['odor'] = df['odor'].replace('f',4)\n",
    "df['odor'] = df['odor'].replace('m',5)\n",
    "df['odor'] = df['odor'].replace('n',6)\n",
    "df['odor'] = df['odor'].replace('p',7)\n",
    "df['odor'] = df['odor'].replace('s',8)\n",
    "\n",
    "# attached=a, descending=d, free=f, notched=n\n",
    "df['gill-attachment'] = df['gill-attachment'].replace('a',0)\n",
    "df['gill-attachment'] = df['gill-attachment'].replace('d',1)\n",
    "df['gill-attachment'] = df['gill-attachment'].replace('f',2)\n",
    "df['gill-attachment'] = df['gill-attachment'].replace('n',3)\n",
    "\n",
    "#close=c,crowded=w,distant=d\n",
    "df['gill-spacing'] = df['gill-spacing'].replace('c', 0)\n",
    "df['gill-spacing'] = df['gill-spacing'].replace('w', 1)\n",
    "df['gill-spacing'] = df['gill-spacing'].replace('d', 2)\n",
    "\n",
    "#broad=b,narrow=n\n",
    "df['gill-size'] = df['gill-size'].replace('b',0)\n",
    "df['gill-size'] = df['gill-size'].replace('n',1)\n",
    "\n",
    "#black=k,brown=n,buff=b,chocolate=h,gray=g, green=r,orange=o,pink=p,purple=u,red=e,white=w,yellow=y\n",
    "df['gill-color'] = df['gill-color'].replace('k',0)\n",
    "df['gill-color'] = df['gill-color'].replace('n',1)\n",
    "df['gill-color'] = df['gill-color'].replace('b',2)\n",
    "df['gill-color'] = df['gill-color'].replace('h',3)\n",
    "df['gill-color'] = df['gill-color'].replace('g',4)\n",
    "df['gill-color'] = df['gill-color'].replace('r',5)\n",
    "df['gill-color'] = df['gill-color'].replace('o',6)\n",
    "df['gill-color'] = df['gill-color'].replace('p',7)\n",
    "df['gill-color'] = df['gill-color'].replace('u',8)\n",
    "df['gill-color'] = df['gill-color'].replace('e',9)\n",
    "df['gill-color'] = df['gill-color'].replace('w',10)\n",
    "df['gill-color'] = df['gill-color'].replace('y',11)\n",
    "\n",
    "df"
   ]
  },
  {
   "cell_type": "code",
   "execution_count": null,
   "metadata": {},
   "outputs": [],
   "source": [
    "ColunaPrevista = df['class']\n",
    "ColunasUtilizadas = df.iloc[:,1:9]\n",
    "ColunasUtilizadas"
   ]
  },
  {
   "cell_type": "code",
   "execution_count": null,
   "metadata": {},
   "outputs": [],
   "source": []
  },
  {
   "cell_type": "code",
   "execution_count": null,
   "metadata": {},
   "outputs": [],
   "source": [
    "from sklearn.model_selection import train_test_split\n",
    "\n",
    "ColunasUtilizadas_treino, ColunasUtilizadas_teste, ColunaPrevista_treino, ColunaPrevista_teste = train_test_split(ColunasUtilizadas, ColunaPrevista, test_size = 0.3)"
   ]
  },
  {
   "cell_type": "code",
   "execution_count": null,
   "metadata": {},
   "outputs": [],
   "source": [
    "from sklearn.ensemble import ExtraTreesClassifier\n",
    "\n",
    "modelo = ExtraTreesClassifier(n_estimators = 100)\n",
    "modelo.fit(ColunasUtilizadas_treino, ColunaPrevista_treino)\n",
    "\n",
    "ResultadoTreino = modelo.score(ColunasUtilizadas_treino, ColunaPrevista_treino)\n",
    "resultado = modelo.score(ColunasUtilizadas_teste, ColunaPrevista_teste)\n",
    "print(f'Acuracia do treino: {ResultadoTreino:.3f}%, e Acuracia real {resultado:.3f}%')"
   ]
  },
  {
   "cell_type": "code",
   "execution_count": null,
   "metadata": {},
   "outputs": [],
   "source": []
  },
  {
   "cell_type": "code",
   "execution_count": null,
   "metadata": {},
   "outputs": [],
   "source": []
  }
 ],
 "metadata": {
  "kernelspec": {
   "display_name": "Python 3",
   "language": "python",
   "name": "python3"
  },
  "language_info": {
   "codemirror_mode": {
    "name": "ipython",
    "version": 3
   },
   "file_extension": ".py",
   "mimetype": "text/x-python",
   "name": "python",
   "nbconvert_exporter": "python",
   "pygments_lexer": "ipython3",
   "version": "3.7.4"
  }
 },
 "nbformat": 4,
 "nbformat_minor": 1
}
